{
 "cells": [
  {
   "cell_type": "code",
   "execution_count": null,
   "metadata": {},
   "outputs": [],
   "source": [
    "import pandas as pd\n",
    "df_list =[]\n",
    "with open('kpodor1.txt', encoding='utf-8') as file:\n",
    "    for i in file:\n",
    "        if(len(i) > 80):\n",
    "            column_a = i.rstrip()[:2]\n",
    "            column_b = i.rstrip()[2:4]\n",
    "            column_c = i.rstrip()[6:9]\n",
    "            column_d = i.rstrip()[9:12]\n",
    "            column_e = i.rstrip()[49:53]\n",
    "            \n",
    "            \n",
    "            df_list.append({ \n",
    "                'Column_A': column_a, \n",
    "                'Column_B': column_b, \n",
    "                'Column_C': column_c, \n",
    "                'Column_D': column_d,\n",
    "                'Column_E': column_e,\n",
    "                })\n",
    "df = pd.DataFrame(df_list, columns = {'Column_A', 'Column_B', 'Column_C', 'Column_D', 'Column_E'})\n",
    "df           \n",
    "# df.to_csv('kpodor.csv')\n",
    "           "
   ]
  }
 ],
 "metadata": {
  "kernelspec": {
   "display_name": "Python 3",
   "language": "python",
   "name": "python3"
  },
  "language_info": {
   "codemirror_mode": {
    "name": "ipython",
    "version": 3
   },
   "file_extension": ".py",
   "mimetype": "text/x-python",
   "name": "python",
   "nbconvert_exporter": "python",
   "pygments_lexer": "ipython3",
   "version": "3.7.5"
  }
 },
 "nbformat": 4,
 "nbformat_minor": 2
}
