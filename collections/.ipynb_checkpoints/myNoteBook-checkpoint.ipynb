{
 "cells": [
  {
   "cell_type": "code",
   "execution_count": 21,
   "metadata": {},
   "outputs": [],
   "source": [
    "import zipfile\n",
    "import os\n",
    "with zipfile.ZipFile('submit-48e82a2e-181a-4231-a8b0-593387555ade.zip', 'r') as submittedzip:\n",
    "    os.system('mkdir newfolder')\n",
    "    \n",
    "    "
   ]
  },
  {
   "cell_type": "code",
   "execution_count": 3,
   "metadata": {},
   "outputs": [
    {
     "name": "stdout",
     "output_type": "stream",
     "text": [
      "['workspace-1562442043 (2).tar.gz', 'workspace-1553099372 (1).tar.gz', 'home', 'workspace-1553099372 (3)', 'solutions-to-packages-overview-quiz.pdf (1).zip', 'workspace-1562442043', 'workspace-1557032178', '.DS_Store', 'workspace-1562442043 (3).tar.gz', 'workspace-1562442043 (2)', 'visuals-quiz-solutions.zip', 'drawing-conclusions-quiz-solutions.zip', 'workspace-1562442043 (8).tar.gz', 'workspace-1553099372 (2).tar.gz', 'workspace-1562442043.tar.gz', 'workspace-1562442043 (1).tar.gz', 'myNoteBook.ipynb', 'workspace-1553099372 (3).tar.gz', 'appending-solutions.ipynb.zip', 'workspace-1553099372 (4)', 'workspace-1562442043 (9).tar.gz', 'fix-datatypes-air-pollution.ipynb.zip', 'assessing-quiz-solutions.zip', '.workspace-submit.json', 'conclusions-groupby-solutions.zip', 'workspace-1553099372.tar.gz', 'workspace-1562442043 (5).tar.gz', 'workspace-1553099372 (6).tar.gz', 'eda-visuals-solutions.ipynb.zip', 'assessing-solutions.zip', 'workspace-1562442043 (4).tar.gz', 'filter-drop-dedupe-solutions.ipynb.zip', 'workspace-1553099372 (7).tar.gz', 'merging-data.ipynb.zip', 'communicate-results-practice-solutions.zip', 'solutions-for-data-analysis-process-quiz.pdf.zip', '.ipynb_checkpoints', 'workspace-1557359086', 'fix-datatypes-mpg-greenhouse-solutions.ipynb.zip', 'workspace-1553099372 (5).tar.gz', 'workspace-1562442043 (6).tar.gz', 'wine-visualizations-solutions.ipynb.zip', 'drawing-conclusions-solutions.ipynb.zip', 'cleaning-practice-solutions.zip', 'conclusions-query-solution.ipynb.zip', 'solutions-to-packages-overview-quiz.pdf.zip', 'data', 'kpodor1.txt', 'workspace-1557032178.tar.gz', 'submit-48e82a2e-181a-4231-a8b0-593387555ade.zip', 'workspace-1557359086.tar.gz', 'workspace-1553099372 (4).tar.gz', 'workspace-1562442043 (7).tar.gz', 'cleaning-column-labels-solutions.ipynb.zip', 'workspace-1562442043 (10).tar.gz', 'results-merged-solutions.ipynb.zip']\n"
     ]
    }
   ],
   "source": [
    "import os\n",
    "print(os.listdir())"
   ]
  },
  {
   "cell_type": "code",
   "execution_count": 18,
   "metadata": {},
   "outputs": [
    {
     "data": {
      "text/plain": [
       "0"
      ]
     },
     "execution_count": 18,
     "metadata": {},
     "output_type": "execute_result"
    }
   ],
   "source": [
    "import os\n",
    "os.system('touch newfilez.txt')"
   ]
  },
  {
   "cell_type": "code",
   "execution_count": null,
   "metadata": {},
   "outputs": [],
   "source": [
    "import zipfile\n",
    "import os\n",
    "os.system('python -m zipfile -e submit-48e82a2e-181a-4231-a8b0-593387555ade.zip target-dir/')"
   ]
  }
 ],
 "metadata": {
  "kernelspec": {
   "display_name": "Python 3",
   "language": "python",
   "name": "python3"
  },
  "language_info": {
   "codemirror_mode": {
    "name": "ipython",
    "version": 3
   },
   "file_extension": ".py",
   "mimetype": "text/x-python",
   "name": "python",
   "nbconvert_exporter": "python",
   "pygments_lexer": "ipython3",
   "version": "3.7.6"
  }
 },
 "nbformat": 4,
 "nbformat_minor": 2
}
