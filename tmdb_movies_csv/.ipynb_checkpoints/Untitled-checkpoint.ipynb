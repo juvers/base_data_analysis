{
 "cells": [
  {
   "cell_type": "code",
   "execution_count": 12,
   "metadata": {},
   "outputs": [],
   "source": [
    "import pandas as pd\n",
    "import os\n",
    "\n",
    "import zipfile\n",
    "\n",
    "\n",
    "os.system('python -m zipfile -e tmdb-movies.csv.zip .')\n",
    "\n",
    "# zipfile.ZipFile.extractall(path=None, members=None, pwd=None)\n",
    "# with zipfile.ZipFile('tmdb.movies.csv.zip') as myzip:\n",
    "#     with myzip.open('tmdb.movies.csv') as myfile:\n",
    "#         print(myfile.read())\n",
    "\n",
    "\n",
    "df = pd.read_csv('tmdb-movis.csv')"
   ]
  },
  {
   "cell_type": "code",
   "execution_count": null,
   "metadata": {},
   "outputs": [],
   "source": []
  }
 ],
 "metadata": {
  "kernelspec": {
   "display_name": "Python 3",
   "language": "python",
   "name": "python3"
  },
  "language_info": {
   "codemirror_mode": {
    "name": "ipython",
    "version": 3
   },
   "file_extension": ".py",
   "mimetype": "text/x-python",
   "name": "python",
   "nbconvert_exporter": "python",
   "pygments_lexer": "ipython3",
   "version": "3.7.6"
  }
 },
 "nbformat": 4,
 "nbformat_minor": 4
}
