{
 "cells": [
  {
   "cell_type": "code",
   "execution_count": null,
   "metadata": {},
   "outputs": [],
   "source": [
    "# Welcome to the Movie database project! \n",
    "\n",
    "\n",
    "# Project: Statistical Investigation of The Movie Database(TMDB)\n",
    "## This Database contains about 10,000 movies collected from The Movie Database (TMDb), which includes user ratings, movie budget and revenue, popularity, movies cast, among others.\n",
    "\n",
    "## Table of Contents\n",
    "<ul>\n",
    "<li><a href=\"#intro\">Introduction</a>\n",
    "    <ul>\n",
    "        <li><a href=\"#RQ\">Research Questions and Hypotheses</a>\n",
    "        </li>\n",
    "        <li><a href=\"#assumptions\">Assumptions</a></li>\n",
    "    </ul>\n",
    "</li>\n",
    "<li><a href=\"#wrangling\">Data Wrangling</a></li>\n",
    "<li><a href=\"#eda\">Exploratory Data Analysis</a></li>\n",
    "<li><a href=\"#conclusions\">Conclusions</a></li>\n",
    "</ul>"
   ]
  },
  {
   "cell_type": "markdown",
   "metadata": {},
   "source": [
    "<a id='intro'></a>\n",
    "## Introduction\n",
    "\n",
    ">The Movie Database is a collection of movies with detailed profiling of the movies from 1960 to 2010. \n",
    "The design type of the datatset provided is a survey research design which is typically descriptuve. Therefore the independent variables in this dataset were not manipulated. \n",
    "\n",
    "### Research Questions and Null Hypothesis\n",
    "##### Based on the dataset provided, the following questions and null hypotheses are stated:\n",
    "#### Research Question 1: Can Popularity predict the Revenue of movies?\n",
    "#### Research Question 2: Which genres of movies were the most expensive to produce ever?\n",
    "#### Null Hypothesis 1: There is no significant relationship between vote average and revenue of movies\n",
    "\n",
    "> These Questions and Hypotheses are investigated using pandas and numpy statictical metrics in correlation, sum, means and standard deviations. \n",
    "In research question one, the means of Popularity and Revenues are compared over the years to evaluate the impact while also comparing the year by year mean statistics. The two variables being continuous variables were explored using pandas correlation metrics with popularity being the independent variable and revenue the dependent.\n",
    "In research question two, the sum, mean and standard deviations of budget was compared against the genres of movies. \n",
    "n hypothesis one, vote average was made into a categorical variable of four levels using pandas cut and the statistical metrics were compared for relative differences."
   ]
  },
  {
   "cell_type": "code",
   "execution_count": 1,
   "metadata": {},
   "outputs": [],
   "source": [
    "import pandas as pd\n",
    "import numpy as np\n",
    "import matplotlib.pyplot as plt\n",
    "import seaborn as sns\n",
    "\n",
    "# make visualisations diplay in the notebook\n",
    "% matplotlib inline\n"
   ]
  },
  {
   "cell_type": "markdown",
   "metadata": {},
   "source": [
    "### Data Collection and Description\n",
    "> The Data is collected using pandas read_csv method to extract the csv file. \n",
    "The shape, describe and info methods were also called to get a clearer description of the data collected.\n",
    "The head method was employed to have a peek into the dataset\n",
    "\n",
    "### General Properties\n",
    "> The Dataset has 10866 rows and 21 columns"
   ]
  },
  {
   "cell_type": "code",
   "execution_count": 2,
   "metadata": {},
   "outputs": [
    {
     "name": "stdout",
     "output_type": "stream",
     "text": [
      "<class 'pandas.core.frame.DataFrame'>\n",
      "RangeIndex: 10866 entries, 0 to 10865\n",
      "Data columns (total 21 columns):\n",
      "id                      10866 non-null int64\n",
      "imdb_id                 10856 non-null object\n",
      "popularity              10866 non-null float64\n",
      "budget                  10866 non-null int64\n",
      "revenue                 10866 non-null int64\n",
      "original_title          10866 non-null object\n",
      "cast                    10790 non-null object\n",
      "homepage                2936 non-null object\n",
      "director                10822 non-null object\n",
      "tagline                 8042 non-null object\n",
      "keywords                9373 non-null object\n",
      "overview                10862 non-null object\n",
      "runtime                 10866 non-null int64\n",
      "genres                  10843 non-null object\n",
      "production_companies    9836 non-null object\n",
      "release_date            10866 non-null object\n",
      "vote_count              10866 non-null int64\n",
      "vote_average            10866 non-null float64\n",
      "release_year            10866 non-null int64\n",
      "budget_adj              10866 non-null float64\n",
      "revenue_adj             10866 non-null float64\n",
      "dtypes: float64(4), int64(6), object(11)\n",
      "memory usage: 1.7+ MB\n"
     ]
    }
   ],
   "source": [
    "# read dataset from csv file\n",
    "df = pd.read_csv('tmdb-movies.csv')\n",
    "\n",
    "\n",
    "# numbers of rows and colums\n",
    "df.shape\n",
    "\n",
    "# quick description of dataset metrics\n",
    "df.describe()\n",
    "\n",
    "# quick view of dataset row numbers and datatypes\n",
    "df.info()"
   ]
  },
  {
   "cell_type": "markdown",
   "metadata": {},
   "source": [
    "<a id='wrangling'></a>\n",
    "## Data Wrangling\n",
    "\n",
    "> In this section of the report, the dataset was loaded in using pandas read_csv, and checked for cleanliness. Firstly the following columns were dropped as they had minimal relevance for the study:\n",
    "-homepage, tagline, overview, keywords, id, imdb_id. The inplace= True was used to ensure the trimmed dataset is saved. \n",
    "Secondly, a duplicate was observed on the index and this was perused and dropped as it had minimal implication for the analysis. \n",
    "Thirdly, null values of 0 were observed in the budget and revenue columns, both of which are vital for the investigation. Pandas replace was employed and the mean values were utilised to fill the null values.\n"
   ]
  },
  {
   "cell_type": "code",
   "execution_count": 3,
   "metadata": {},
   "outputs": [
    {
     "data": {
      "text/plain": [
       "0"
      ]
     },
     "execution_count": 3,
     "metadata": {},
     "output_type": "execute_result"
    }
   ],
   "source": [
    "# drop variables with minimal relevance to the investigation\n",
    "df.drop(['homepage', 'tagline', 'overview', 'keywords', 'id', 'imdb_id'], axis = 1, inplace = True)\n",
    "\n",
    "# verify dropped data\n",
    "df.head()\n",
    "# check total duplicates\n",
    "sum(df.duplicated())\n",
    "\n",
    "# drop duplicate values in rows\n",
    "df.drop_duplicates(inplace = True)\n",
    "\n",
    "# verify duplicates are dropped\n",
    "sum(df.duplicated())\n",
    "\n",
    "# empty values in budget && revenue\n",
    "sum(df.budget == 0)\n",
    "sum(df.revenue == 0)\n",
    "\n",
    "# fill null values in budget and revenue with mean values\n",
    "df.budget.replace(0, df.budget.mean(), inplace = True)\n",
    "sum(df.budget == 0)\n",
    "df.revenue.replace(0, df.revenue.mean(), inplace = True)\n",
    "sum(df.revenue == 0)\n"
   ]
  },
  {
   "cell_type": "markdown",
   "metadata": {},
   "source": [
    "<a id='eda'></a>\n",
    "## Exploratory Data Analysis\n",
    "\n",
    "> In exploring the dataset we asked some rsearch questions and posed some hypotheses. Statistical metrics we applied on the dataset in order to make meaning of the collection. Visualizations are also created to depict relationship between the variables employed. \n",
    "\n",
    "### Research Question 1: Can Popularity predict the Revenue of movies?"
   ]
  },
  {
   "cell_type": "code",
   "execution_count": 4,
   "metadata": {},
   "outputs": [
    {
     "data": {
      "image/png": "[encoded data removed]",
      "text/plain": [
       "<matplotlib.figure.Figure at 0x7f1a68439048>"
      ]
     },
     "metadata": {},
     "output_type": "display_data"
    }
   ],
   "source": [
    "# run a bivariate correlation between popularity and revenue to determine the associative impact over the years \n",
    "df[['popularity', 'revenue']].corr()\n",
    "\n",
    "# run a bivariate correlation between popularity and revenue to get the yearly relationship between both variable\n",
    "df.groupby('release_year')[['popularity', 'revenue']].corr().iloc[0::2,-1]\n",
    "\n",
    "# obtain meean values of popularity and revenue by years\n",
    "mean_vals = df.groupby('release_year')[['popularity', 'revenue']].mean()\n",
    "\n",
    "# create a scatter plot using seaborn to show the line of best fit\n",
    "sns.set_style(\"whitegrid\")\n",
    "graphics = sns.lmplot(x= 'popularity', y = 'revenue', data = mean_vals, aspect = 2);"
   ]
  },
  {
   "cell_type": "markdown",
   "metadata": {},
   "source": [
    "> "
   ]
  },
  {
   "cell_type": "markdown",
   "metadata": {},
   "source": [
    "### Research Question 2: Which genres of movies were the most expensive to produce ever?"
   ]
  },
  {
   "cell_type": "code",
   "execution_count": 5,
   "metadata": {},
   "outputs": [
    {
     "data": {
      "text/html": [
       "<div>\n",
       "<style scoped>\n",
       "    .dataframe tbody tr th:only-of-type {\n",
       "        vertical-align: middle;\n",
       "    }\n",
       "\n",
       "    .dataframe tbody tr th {\n",
       "        vertical-align: top;\n",
       "    }\n",
       "\n",
       "    .dataframe thead th {\n",
       "        text-align: right;\n",
       "    }\n",
       "</style>\n",
       "<table border=\"1\" class=\"dataframe\">\n",
       "  <thead>\n",
       "    <tr style=\"text-align: right;\">\n",
       "      <th></th>\n",
       "      <th>popularity</th>\n",
       "      <th>budget</th>\n",
       "      <th>revenue</th>\n",
       "      <th>original_title</th>\n",
       "      <th>cast</th>\n",
       "      <th>director</th>\n",
       "      <th>runtime</th>\n",
       "      <th>genres</th>\n",
       "      <th>production_companies</th>\n",
       "      <th>release_date</th>\n",
       "      <th>vote_count</th>\n",
       "      <th>vote_average</th>\n",
       "      <th>release_year</th>\n",
       "      <th>budget_adj</th>\n",
       "      <th>revenue_adj</th>\n",
       "    </tr>\n",
       "  </thead>\n",
       "  <tbody>\n",
       "    <tr>\n",
       "      <th>2244</th>\n",
       "      <td>0.25054</td>\n",
       "      <td>425000000.0</td>\n",
       "      <td>11087569.0</td>\n",
       "      <td>The Warrior's Way</td>\n",
       "      <td>Kate Bosworth|Jang Dong-gun|Geoffrey Rush|Dann...</td>\n",
       "      <td>Sngmoo Lee</td>\n",
       "      <td>100</td>\n",
       "      <td>Adventure|Fantasy|Action|Western|Thriller</td>\n",
       "      <td>Boram Entertainment Inc.</td>\n",
       "      <td>12/2/10</td>\n",
       "      <td>74</td>\n",
       "      <td>6.4</td>\n",
       "      <td>2010</td>\n",
       "      <td>425000000.0</td>\n",
       "      <td>11087569.0</td>\n",
       "    </tr>\n",
       "  </tbody>\n",
       "</table>\n",
       "</div>"
      ],
      "text/plain": [
       "      popularity       budget     revenue     original_title  \\\n",
       "2244     0.25054  425000000.0  11087569.0  The Warrior's Way   \n",
       "\n",
       "                                                   cast    director  runtime  \\\n",
       "2244  Kate Bosworth|Jang Dong-gun|Geoffrey Rush|Dann...  Sngmoo Lee      100   \n",
       "\n",
       "                                         genres      production_companies  \\\n",
       "2244  Adventure|Fantasy|Action|Western|Thriller  Boram Entertainment Inc.   \n",
       "\n",
       "     release_date  vote_count  vote_average  release_year   budget_adj  \\\n",
       "2244      12/2/10          74           6.4          2010  425000000.0   \n",
       "\n",
       "      revenue_adj  \n",
       "2244   11087569.0  "
      ]
     },
     "execution_count": 5,
     "metadata": {},
     "output_type": "execute_result"
    }
   ],
   "source": [
    "# Continue to explore the data to address your additional research\n",
    "#   questions. Add more headers as needed if you have more questions to\n",
    "#   investigate.\n",
    "# compute the budget for each genre of movies year by year and sort from most expensive to least expensive\n",
    "budget_by_year = df.groupby(['release_year','genres']).budget.mean().sort_values(ascending=False)\n",
    "# extract the top 10 most expensive movies to observe the genres\n",
    "budget_by_year.iloc[:10]\n",
    "\n",
    "# find the most expensive details by indexing\n",
    "df.iloc[2243:2244]\n"
   ]
  },
  {
   "cell_type": "markdown",
   "metadata": {},
   "source": [
    "### Null Hypothesis 1: There is no significant relationship between vote average and revenue of movies"
   ]
  },
  {
   "cell_type": "code",
   "execution_count": 6,
   "metadata": {},
   "outputs": [
    {
     "data": {
      "image/png": "[encoded data removed]",
      "text/plain": [
       "<matplotlib.figure.Figure at 0x7f1a6631ccc0>"
      ]
     },
     "metadata": {},
     "output_type": "display_data"
    }
   ],
   "source": [
    "# get a statistical metrics of the vote average to create edges\n",
    "df['vote_average'].describe()\n",
    "# create edges based on the statistical metrics\n",
    "vote_edges = [1.5, 5.4, 6.0, 6.6, 9.2]\n",
    "# establish categorical variables based off the edges\n",
    "vote_values = ['low', 'fair', 'average', 'high']\n",
    "# connect the categorical vairables with the edges\n",
    "df['vote_levels'] = pd.cut(df['vote_average'], vote_edges, labels = vote_values)\n",
    "\n",
    "# use numpy aggregations\n",
    "df.groupby('vote_levels').revenue.agg([np.sum, np.mean, np.std])\n",
    "\n",
    "gg = df.groupby('vote_levels')\n",
    "\n",
    "# investigate which movies recieved the highest votes ever, sort with the highest vote up\n",
    "gg.filter(lambda x: len(x) >= 6.6).sort_values('vote_average', ascending=False).iloc[0: 10]\n",
    "\n",
    "# create a barchart to visualize the vote_levels and revenue\n",
    "sns.barplot(x=\"vote_levels\", y=\"revenue\", data=df);\n"
   ]
  },
  {
   "cell_type": "markdown",
   "metadata": {},
   "source": [
    "<a id='conclusions'></a>\n",
    "\n",
    "\n",
    "## Discussions\n",
    "> \n",
    "## Conclusions\n",
    "\n",
    "> Research Question 1: Can Popularity predict the Revenue of movies?\n",
    "From the results there is a positive correlation between Populartiy and Revenue of movies. A correlation coefficient of 0.635 was recorded meaning that there is a 64% chance that Revenue was predicted by Popularity. In 1977, he highest record of popularity predicating revenuew was recorded with a correlation coefficient of 0.9104 such that in that year 91% chance that the popularity of a movie meant a good return financially.\n",
    "1960, 1966 and 1971 recorded negative correlation such that popular movies did not make good revenues. \n",
    "\n",
    "> Research Question 2: Which genres of movies were the most expensive to produce ever?\n",
    "A combination of Adventure, fantasy and Action were the most expensive movies ever to be produced. This is reasonable as reality has to be simulated in an adventure and fantasy setting. It s also important to note that these movies were especially made in the 2000's which co-incided with the internet burst which would have neccesitated employing technology which was at that instance very expensive to utilise and still is. The most expensive movie is title 'The Warrior's Way' which cost 425 million dollars.\n",
    "\n",
    "> Null Hypothesis 1: There is no significant relationship between vote average and revenue of movies\n",
    "There is a very high relationship between vote average and revenue of movies. The higher the vote average the higher the revenue made.\n",
    "\n",
    "## Submitting your Project \n",
    "\n",
    "> Before you submit your project, you need to create a .html or .pdf version of this notebook in the workspace here. To do that, run the code cell below. If it worked correctly, you should get a return code of 0, and you should see the generated .html file in the workspace directory (click on the orange Jupyter icon in the upper left).\n",
    "\n",
    "> Alternatively, you can download this report as .html via the **File** > **Download as** submenu, and then manually upload it into the workspace directory by clicking on the orange Jupyter icon in the upper left, then using the Upload button.\n",
    "\n",
    "> Once you've done this, you can submit your project by clicking on the \"Submit Project\" button in the lower right here. This will create and submit a zip file with this .ipynb doc and the .html or .pdf version you created. Congratulations!"
   ]
  },
  {
   "cell_type": "code",
   "execution_count": 8,
   "metadata": {},
   "outputs": [
    {
     "data": {
      "text/plain": [
       "255"
      ]
     },
     "execution_count": 8,
     "metadata": {},
     "output_type": "execute_result"
    }
   ],
   "source": [
    "from subprocess import call\n",
    "call(['python', '-m', 'nbconvert', 'Investigate_a_Dataset.ipynb'])"
   ]
  },
  {
   "cell_type": "code",
   "execution_count": null,
   "metadata": {},
   "outputs": [],
   "source": []
  }
 ],
 "metadata": {
  "kernelspec": {
   "display_name": "Python 3",
   "language": "python",
   "name": "python3"
  },
  "language_info": {
   "codemirror_mode": {
    "name": "ipython",
    "version": 3
   },
   "file_extension": ".py",
   "mimetype": "text/x-python",
   "name": "python",
   "nbconvert_exporter": "python",
   "pygments_lexer": "ipython3",
   "version": "3.7.6"
  }
 },
 "nbformat": 4,
 "nbformat_minor": 2
}
