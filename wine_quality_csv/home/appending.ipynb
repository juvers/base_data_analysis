{
 "cells": [
  {
   "cell_type": "markdown",
   "metadata": {},
   "source": [
    "# Appending Data\n",
    "First, import the necessary packages and load `winequality-red.csv` and `winequality-white.csv`."
   ]
  },
  {
   "cell_type": "markdown",
   "metadata": {},
   "source": [
    "Do the same for the white dataframe and use `head()` to confirm the change."
   ]
  },
  {
   "cell_type": "code",
   "execution_count": 20,
   "metadata": {},
   "outputs": [],
   "source": [
    "# import numpy and pandas\n",
    "import numpy as np \n",
    "import pandas as pd\n",
    "\n",
    "\n",
    "# load red and white wine datasets\n",
    "red_df = pd.read_csv('./winery/winequality-red.csv', sep=\";\")\n",
    "# red_df.head()\n",
    "\n",
    "white_df = pd.read_csv('./winery/winequality-white.csv', sep=\";\")\n",
    "\n",
    "## Create Color Columns\n",
    "# Create two arrays as long as the number of rows in the red and white dataframes that repeat the value “red” or “white.” NumPy offers really easy way to do this. Here’s the documentation for [NumPy’s repeat](https://docs.scipy.org/doc/numpy/reference/generated/numpy.repeat.html) function. Take a look and try it yourself.\n",
    "\n",
    "# create color array for red dataframe\n",
    "color_red = np.repeat('red', red_df.shape[0])\n",
    "\n",
    "# create color array for white dataframe\n",
    "color_white = np.repeat('white', white_df.shape[0])\n",
    "\n",
    "\n",
    "# Add arrays to the red and white dataframes. Do this by setting a new column called 'color' to the appropriate array. The cell below does this for the red dataframe.\n",
    "\n",
    "red_df['color'] = color_red\n",
    "white_df['color'] = color_white\n",
    "red_df.rename(columns={'total_sulfur-dioxide' : 'total_sulfur_dioxide'}, inplace=True)\n",
    "# red_df.head()\n",
    "white_df.head()\n",
    "\n",
    "# append dataframes\n",
    "wine_df = pd.concat([red_df, white_df], sort=True)\n",
    "wine_df.tail()\n",
    "\n",
    "wine_df.to_csv('winequality_edited.csv', index=False)\n",
    "\n",
    "# wine_df.to_csv('winequality_edited.csv', index=False)"
   ]
  },
  {
   "cell_type": "markdown",
   "metadata": {},
   "source": [
    "## Save Combined Dataset\n",
    "Save your newly combined dataframe as `winequality_edited.csv`. Remember, set `index=False` to avoid saving with an unnamed column!"
   ]
  }
 ],
 "metadata": {
  "kernelspec": {
   "display_name": "Python 3",
   "language": "python",
   "name": "python3"
  },
  "language_info": {
   "codemirror_mode": {
    "name": "ipython",
    "version": 3
   },
   "file_extension": ".py",
   "mimetype": "text/x-python",
   "name": "python",
   "nbconvert_exporter": "python",
   "pygments_lexer": "ipython3",
   "version": "3.11.7"
  }
 },
 "nbformat": 4,
 "nbformat_minor": 2
}
